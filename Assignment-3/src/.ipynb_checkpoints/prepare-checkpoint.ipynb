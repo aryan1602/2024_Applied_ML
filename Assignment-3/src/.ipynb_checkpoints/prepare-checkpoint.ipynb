{
 "cells": [
  {
   "cell_type": "code",
   "execution_count": 1,
   "id": "6c329869",
   "metadata": {},
   "outputs": [],
   "source": [
    "import re\n",
    "import numpy as np\n",
    "import pandas as pd\n",
    "import sklearn\n",
    "import joblib"
   ]
  },
  {
   "cell_type": "code",
   "execution_count": 2,
   "id": "1e9d803c",
   "metadata": {},
   "outputs": [],
   "source": [
    "df = pd.read_csv('../data/emails.csv')"
   ]
  },
  {
   "cell_type": "code",
   "execution_count": 3,
   "id": "f7dd6b15",
   "metadata": {},
   "outputs": [],
   "source": [
    "def preprocess(text):\n",
    "    text = text.lower();\n",
    "    text = re.sub('[+-]?((\\d+\\.?\\d*)|(\\.\\d+))', 'number', text)\n",
    "    text = re.sub('[$]+', 'dollar', text)\n",
    "    return text;\n"
   ]
  },
  {
   "cell_type": "code",
   "execution_count": 4,
   "id": "69a2460d",
   "metadata": {},
   "outputs": [],
   "source": [
    "from nltk.tokenize import RegexpTokenizer\n",
    "from nltk.stem.snowball import SnowballStemmer"
   ]
  },
  {
   "cell_type": "code",
   "execution_count": 5,
   "id": "ff17bd64",
   "metadata": {},
   "outputs": [],
   "source": [
    "def tokenize_and_stem(text):\n",
    "    tokenizer = RegexpTokenizer(r'\\w+')\n",
    "    snow_stemmer = SnowballStemmer(language='english')\n",
    "    \n",
    "    words = tokenizer.tokenize(text)\n",
    "    stemmed_words = []\n",
    "    for w in words:\n",
    "        if len(w) < 2:\n",
    "            continue;\n",
    "        stemmed_words.append(snow_stemmer.stem(w))\n",
    "    \n",
    "    return stemmed_words\n",
    "    "
   ]
  },
  {
   "cell_type": "code",
   "execution_count": 6,
   "id": "85d45f3a",
   "metadata": {},
   "outputs": [],
   "source": [
    "def count_vec_analyzer(data):\n",
    "    data =  preprocess(data)\n",
    "    return tokenize_and_stem(data)"
   ]
  },
  {
   "cell_type": "code",
   "execution_count": null,
   "id": "c9a9e394",
   "metadata": {},
   "outputs": [],
   "source": [
    "from sklearn.feature_extraction.text import CountVectorizer\n",
    "from sklearn.feature_extraction.text import TfidfTransformer\n",
    "from sklearn.pipeline import Pipeline\n",
    "corpus = df.text\n",
    "pipeline = Pipeline([\n",
    "    ('vectorizer', CountVectorizer(analyzer=count_vec_analyzer)),\n",
    "    ('tfidf', TfidfTransformer())\n",
    "])\n",
    "\n",
    "pipeline.fit(corpus)\n"
   ]
  },
  {
   "cell_type": "code",
   "execution_count": 8,
   "id": "fa9aeb38",
   "metadata": {},
   "outputs": [],
   "source": [
    "corpus_tfidf = pipeline.transform(corpus)\n",
    "transformed_df = pd.concat([df, pd.DataFrame(corpus_tfidf.toarray())], axis=1)\n",
    "transformed_df.drop('text', axis=1, inplace=True)"
   ]
  },
  {
   "cell_type": "code",
   "execution_count": 9,
   "id": "986d0b34",
   "metadata": {},
   "outputs": [],
   "source": [
    "from sklearn.model_selection import train_test_split\n",
    "train, remainder = train_test_split(transformed_df, train_size=0.8,stratify=transformed_df.spam)"
   ]
  },
  {
   "cell_type": "code",
   "execution_count": 10,
   "id": "f23846b3",
   "metadata": {},
   "outputs": [],
   "source": [
    "validate, test = train_test_split(remainder, train_size=0.5, stratify=remainder.spam)"
   ]
  },
  {
   "cell_type": "code",
   "execution_count": 11,
   "id": "eaac4be7",
   "metadata": {},
   "outputs": [],
   "source": [
    "train.to_csv('data/train.csv', index=False)\n",
    "validate.to_csv('data/validate.csv', index=False)\n",
    "test.to_csv('data/test.csv', index=False)"
   ]
  }
 ],
 "metadata": {
  "kernelspec": {
   "display_name": "Python 3 (ipykernel)",
   "language": "python",
   "name": "python3"
  },
  "language_info": {
   "codemirror_mode": {
    "name": "ipython",
    "version": 3
   },
   "file_extension": ".py",
   "mimetype": "text/x-python",
   "name": "python",
   "nbconvert_exporter": "python",
   "pygments_lexer": "ipython3",
   "version": "3.11.5"
  }
 },
 "nbformat": 4,
 "nbformat_minor": 5
}
