{
 "cells": [
  {
   "cell_type": "code",
   "execution_count": 1,
   "id": "2fd000ea",
   "metadata": {},
   "outputs": [],
   "source": [
    "import pandas as pd\n",
    "import numpy as np\n",
    "import sklearn"
   ]
  },
  {
   "cell_type": "code",
   "execution_count": 2,
   "id": "e870f562",
   "metadata": {},
   "outputs": [],
   "source": [
    "raw_data = pd.read_csv('../data/raw/raw_data.csv')"
   ]
  },
  {
   "cell_type": "code",
   "execution_count": 3,
   "id": "4f0bb908",
   "metadata": {},
   "outputs": [],
   "source": [
    "from sklearn.model_selection import train_test_split\n",
    "train, remainder = train_test_split(raw_data, train_size=0.8, random_state=7)\n",
    "validate, test = train_test_split(remainder, train_size=0.5, random_state=7)"
   ]
  },
  {
   "cell_type": "code",
   "execution_count": 4,
   "id": "4fd63145",
   "metadata": {},
   "outputs": [],
   "source": [
    "train.to_csv('../data/raw/train.csv')\n",
    "validate.to_csv('../data/raw/validate.csv')\n",
    "test.to_csv('../data/raw/test.csv')"
   ]
  },
  {
   "cell_type": "code",
   "execution_count": 5,
   "id": "1b9a9f4d",
   "metadata": {},
   "outputs": [],
   "source": [
    "train, remainder = train_test_split(raw_data, train_size=0.8, random_state=21)\n",
    "validate, test = train_test_split(remainder, train_size=0.5, random_state=21)"
   ]
  },
  {
   "cell_type": "code",
   "execution_count": 6,
   "id": "892bff38",
   "metadata": {},
   "outputs": [],
   "source": [
    "train.to_csv('../data/raw/train.csv')\n",
    "validate.to_csv('../data/raw/validate.csv')\n",
    "test.to_csv('../data/raw/test.csv')"
   ]
  },
  {
   "cell_type": "code",
   "execution_count": null,
   "id": "b2dd4604",
   "metadata": {},
   "outputs": [],
   "source": []
  }
 ],
 "metadata": {
  "kernelspec": {
   "display_name": "Python 3 (ipykernel)",
   "language": "python",
   "name": "python3"
  },
  "language_info": {
   "codemirror_mode": {
    "name": "ipython",
    "version": 3
   },
   "file_extension": ".py",
   "mimetype": "text/x-python",
   "name": "python",
   "nbconvert_exporter": "python",
   "pygments_lexer": "ipython3",
   "version": "3.11.5"
  }
 },
 "nbformat": 4,
 "nbformat_minor": 5
}
