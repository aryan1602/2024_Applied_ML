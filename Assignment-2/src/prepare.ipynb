{
 "cells": [
  {
   "cell_type": "code",
   "execution_count": 8,
   "id": "4a9caaa0",
   "metadata": {},
   "outputs": [
    {
     "name": "stdout",
     "output_type": "stream",
     "text": [
      "Initialized DVC repository.\n",
      "\n",
      "You can now commit the changes to git.\n",
      "\n",
      "\u001b[31m+---------------------------------------------------------------------+\n",
      "\u001b[0m\u001b[31m|\u001b[0m                                                                     \u001b[31m|\u001b[0m\n",
      "\u001b[31m|\u001b[0m        DVC has enabled anonymous aggregate usage analytics.         \u001b[31m|\u001b[0m\n",
      "\u001b[31m|\u001b[0m     Read the analytics documentation (and how to opt-out) here:     \u001b[31m|\u001b[0m\n",
      "\u001b[31m|\u001b[0m             <\u001b[36mhttps://dvc.org/doc/user-guide/analytics\u001b[39m>              \u001b[31m|\u001b[0m\n",
      "\u001b[31m|\u001b[0m                                                                     \u001b[31m|\u001b[0m\n",
      "\u001b[31m+---------------------------------------------------------------------+\n",
      "\u001b[0m\n",
      "\u001b[33mWhat's next?\u001b[39m\n",
      "\u001b[33m------------\u001b[39m\n",
      "- Check out the documentation: <\u001b[36mhttps://dvc.org/doc\u001b[39m>\n",
      "- Get help and share ideas: <\u001b[36mhttps://dvc.org/chat\u001b[39m>\n",
      "- Star us on GitHub: <\u001b[36mhttps://github.com/iterative/dvc\u001b[39m>\n",
      "\u001b[0m"
     ]
    }
   ],
   "source": [
    "!dvc init"
   ]
  },
  {
   "cell_type": "code",
   "execution_count": 9,
   "id": "c9f4f0e2",
   "metadata": {},
   "outputs": [
    {
     "name": "stdout",
     "output_type": "stream",
     "text": [
      "Setting 'myremote' as a default remote.\n",
      "\u001b[0m"
     ]
    }
   ],
   "source": [
    "!dvc remote add --default myremote gdrive://1fble8_BKHllxWbelBYiYch-S-pXrEy1K"
   ]
  },
  {
   "cell_type": "code",
   "execution_count": 11,
   "id": "2ddf1b70",
   "metadata": {},
   "outputs": [
    {
     "name": "stdout",
     "output_type": "stream",
     "text": [
      "\u001b[?25l\u001b[32m⠋\u001b[0m Checking graph                                       core\u001b[39m>\n",
      "Adding...                                                                       \n",
      "!\u001b[A\n",
      "Collecting files and computing hashes in Assignment-2/data/raw |0.00 [00:00,    \u001b[A\n",
      "                                                                                \u001b[A\n",
      "!\u001b[A\n",
      "  0% Checking cache in '/home/aryan/Applied ML/2024_Applied_ML/.dvc/cache/files/\u001b[A\n",
      "                                                                                \u001b[A\n",
      "!\u001b[A\n",
      "  0%|          |Adding Assignment-2/data/raw to cache 0/4 [00:00<?,     ?file/s]\u001b[A\n",
      "                                                                                \u001b[A\n",
      "!\u001b[A\n",
      "  0%|          |Checking out /home/aryan/Applied ML/200/5 [00:00<?,    ?files/s]\u001b[A\n",
      "100% Adding...|████████████████████████████████████████|1/1 [00:00,  8.86file/s]\u001b[A\n",
      "\n",
      "To track the changes with git, run:\n",
      "\n",
      "\tgit add Assignment-2/data/raw.dvc\n",
      "\n",
      "To enable auto staging, run:\n",
      "\n",
      "\tdvc config core.autostage true\n",
      "\u001b[0m"
     ]
    }
   ],
   "source": [
    "!dvc add \"Assignment-2/data/raw\""
   ]
  },
  {
   "cell_type": "code",
   "execution_count": 12,
   "id": "2fd000ea",
   "metadata": {},
   "outputs": [],
   "source": [
    "import pandas as pd\n",
    "import numpy as np\n",
    "import sklearn"
   ]
  },
  {
   "cell_type": "code",
   "execution_count": 14,
   "id": "e870f562",
   "metadata": {},
   "outputs": [],
   "source": [
    "raw_data = pd.read_csv('Assignment-2/data/raw/raw_data.csv')"
   ]
  },
  {
   "cell_type": "code",
   "execution_count": 15,
   "id": "4302b969",
   "metadata": {},
   "outputs": [],
   "source": [
    "from sklearn.model_selection import train_test_split\n",
    "train, remainder = train_test_split(raw_data, train_size=0.8, random_state=7)\n",
    "validate, test = train_test_split(remainder, train_size=0.5, random_state=7)"
   ]
  },
  {
   "cell_type": "code",
   "execution_count": 18,
   "id": "063d3989",
   "metadata": {},
   "outputs": [],
   "source": [
    "train.to_csv('Assignment-2/data/raw/train.csv')\n",
    "validate.to_csv('Assignment-2/data/raw/validate.csv')\n",
    "test.to_csv('Assignment-2/data/raw/test.csv')"
   ]
  },
  {
   "cell_type": "code",
   "execution_count": 19,
   "id": "8228e778",
   "metadata": {},
   "outputs": [
    {
     "name": "stdout",
     "output_type": "stream",
     "text": [
      "Assignment-2/data/raw.dvc:                                                      \n",
      "\tchanged outs:\n",
      "\t\tmodified:           Assignment-2/data/raw\n",
      "\u001b[0m"
     ]
    }
   ],
   "source": [
    "!dvc status"
   ]
  },
  {
   "cell_type": "code",
   "execution_count": 20,
   "id": "f9e1723a",
   "metadata": {},
   "outputs": [
    {
     "name": "stdout",
     "output_type": "stream",
     "text": [
      "\u001b[?25l\u001b[32m⠋\u001b[0m Checking graph                                       core\u001b[39m>\n",
      "Adding...                                                                       \n",
      "!\u001b[A\n",
      "Collecting files and computing hashes in Assignment-2/data/raw |0.00 [00:00,    \u001b[A\n",
      "                                                                                \u001b[A\n",
      "!\u001b[A\n",
      "  0% Checking cache in '/home/aryan/Applied ML/2024_Applied_ML/.dvc/cache/files/\u001b[A\n",
      "                                                                                \u001b[A\n",
      "!\u001b[A\n",
      "  0%|          |Adding Assignment-2/data/raw to cache 0/3 [00:00<?,     ?file/s]\u001b[A\n",
      "                                                                                \u001b[A\n",
      "!\u001b[A\n",
      "  0%|          |Checking out /home/aryan/Applied ML/200/5 [00:00<?,    ?files/s]\u001b[A\n",
      "100% Adding...|████████████████████████████████████████|1/1 [00:00, 32.15file/s]\u001b[A\n",
      "\n",
      "To track the changes with git, run:\n",
      "\n",
      "\tgit add Assignment-2/data/raw.dvc\n",
      "\n",
      "To enable auto staging, run:\n",
      "\n",
      "\tdvc config core.autostage true\n",
      "\u001b[0m"
     ]
    }
   ],
   "source": [
    "!dvc add \"Assignment-2/data/raw\""
   ]
  },
  {
   "cell_type": "markdown",
   "id": "dbb48b5b",
   "metadata": {},
   "source": [
    "#### Updating The Data"
   ]
  },
  {
   "cell_type": "code",
   "execution_count": 5,
   "id": "7cded292",
   "metadata": {},
   "outputs": [],
   "source": [
    "train, remainder = train_test_split(raw_data, train_size=0.8, random_state=21)\n",
    "validate, test = train_test_split(remainder, train_size=0.5, random_state=21)"
   ]
  },
  {
   "cell_type": "code",
   "execution_count": 6,
   "id": "ca9be061",
   "metadata": {},
   "outputs": [],
   "source": [
    "train.to_csv('../data/raw/train.csv')\n",
    "validate.to_csv('../data/raw/validate.csv')\n",
    "test.to_csv('../data/raw/test.csv')"
   ]
  },
  {
   "cell_type": "code",
   "execution_count": 7,
   "id": "e72372f3",
   "metadata": {},
   "outputs": [],
   "source": [
    "def print_variable_distribution(data, file_name):\n",
    "    print(\"Number of 0s in \" + file_name + \" - \" + str(len(data) - data.spam.sum()))\n",
    "    print(\"Number of 1s in \" + file_name + \" - \" + str(data.spam.sum()))\n",
    "    \n",
    "    "
   ]
  },
  {
   "cell_type": "markdown",
   "id": "c5ecbcbf",
   "metadata": {},
   "source": [
    "#### Target Variable Distribution of the First Version of Data"
   ]
  },
  {
   "cell_type": "code",
   "execution_count": 8,
   "id": "02882836",
   "metadata": {},
   "outputs": [],
   "source": [
    "train = pd.read_csv('../data/raw/train.csv')\n",
    "validate = pd.read_csv('../data/raw/validate.csv')\n",
    "test = pd.read_csv('../data/raw/test.csv')"
   ]
  },
  {
   "cell_type": "code",
   "execution_count": 9,
   "id": "81795e11",
   "metadata": {},
   "outputs": [
    {
     "name": "stdout",
     "output_type": "stream",
     "text": [
      "Number of 0s in train.csv - 3484\n",
      "Number of 1s in train.csv - 1098\n",
      "Number of 0s in validate.csv - 451\n",
      "Number of 1s in validate.csv - 122\n",
      "Number of 0s in test.csv - 425\n",
      "Number of 1s in test.csv - 148\n"
     ]
    }
   ],
   "source": [
    "print_variable_distribution(train, \"train.csv\")\n",
    "print_variable_distribution(validate, \"validate.csv\")\n",
    "print_variable_distribution(test, \"test.csv\")"
   ]
  },
  {
   "cell_type": "markdown",
   "id": "7111470c",
   "metadata": {},
   "source": [
    "#### Target Variable Distribution of the Update Version of Data"
   ]
  },
  {
   "cell_type": "code",
   "execution_count": 10,
   "id": "1483eb22",
   "metadata": {},
   "outputs": [],
   "source": [
    "train = pd.read_csv('../data/raw/train.csv')\n",
    "validate = pd.read_csv('../data/raw/validate.csv')\n",
    "test = pd.read_csv('../data/raw/test.csv')"
   ]
  },
  {
   "cell_type": "code",
   "execution_count": 11,
   "id": "9e21f0da",
   "metadata": {},
   "outputs": [
    {
     "name": "stdout",
     "output_type": "stream",
     "text": [
      "Number of 0s in train.csv - 3491\n",
      "Number of 1s in train.csv - 1091\n",
      "Number of 0s in validate.csv - 433\n",
      "Number of 1s in validate.csv - 140\n",
      "Number of 0s in test.csv - 436\n",
      "Number of 1s in test.csv - 137\n"
     ]
    }
   ],
   "source": [
    "print_variable_distribution(train, \"train.csv\")\n",
    "print_variable_distribution(validate, \"validate.csv\")\n",
    "print_variable_distribution(test, \"test.csv\")"
   ]
  }
 ],
 "metadata": {
  "kernelspec": {
   "display_name": "Python 3 (ipykernel)",
   "language": "python",
   "name": "python3"
  },
  "language_info": {
   "codemirror_mode": {
    "name": "ipython",
    "version": 3
   },
   "file_extension": ".py",
   "mimetype": "text/x-python",
   "name": "python",
   "nbconvert_exporter": "python",
   "pygments_lexer": "ipython3",
   "version": "3.11.5"
  }
 },
 "nbformat": 4,
 "nbformat_minor": 5
}
