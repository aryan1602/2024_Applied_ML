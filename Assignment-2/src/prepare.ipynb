{
 "cells": [
  {
   "cell_type": "code",
   "execution_count": 1,
   "id": "2fd000ea",
   "metadata": {},
   "outputs": [],
   "source": [
    "import pandas as pd\n",
    "import numpy as np\n",
    "import sklearn"
   ]
  },
  {
   "cell_type": "code",
   "execution_count": 2,
   "id": "e870f562",
   "metadata": {},
   "outputs": [],
   "source": [
    "raw_data = pd.read_csv('../data/raw/raw_data.csv')"
   ]
  },
  {
   "cell_type": "code",
   "execution_count": 3,
   "id": "4302b969",
   "metadata": {},
   "outputs": [],
   "source": [
    "from sklearn.model_selection import train_test_split\n",
    "train, remainder = train_test_split(raw_data, train_size=0.8, random_state=7)\n",
    "validate, test = train_test_split(remainder, train_size=0.5, random_state=7)"
   ]
  },
  {
   "cell_type": "code",
   "execution_count": 4,
   "id": "063d3989",
   "metadata": {},
   "outputs": [],
   "source": [
    "train.to_csv('../data/raw/train.csv')\n",
    "validate.to_csv('../data/raw/validate.csv')\n",
    "test.to_csv('../data/raw/test.csv')"
   ]
  },
  {
   "cell_type": "markdown",
   "id": "dbb48b5b",
   "metadata": {},
   "source": [
    "#### Updating The Data"
   ]
  },
  {
   "cell_type": "code",
   "execution_count": 5,
   "id": "7cded292",
   "metadata": {},
   "outputs": [],
   "source": [
    "train, remainder = train_test_split(raw_data, train_size=0.8, random_state=21)\n",
    "validate, test = train_test_split(remainder, train_size=0.5, random_state=21)"
   ]
  },
  {
   "cell_type": "code",
   "execution_count": 6,
   "id": "ca9be061",
   "metadata": {},
   "outputs": [],
   "source": [
    "train.to_csv('../data/raw/train.csv')\n",
    "validate.to_csv('../data/raw/validate.csv')\n",
    "test.to_csv('../data/raw/test.csv')"
   ]
  },
  {
   "cell_type": "code",
   "execution_count": 7,
   "id": "e72372f3",
   "metadata": {},
   "outputs": [],
   "source": [
    "def print_variable_distribution(data, file_name):\n",
    "    print(\"Number of 0s in \" + file_name + \" - \" + str(len(data) - data.spam.sum()))\n",
    "    print(\"Number of 1s in \" + file_name + \" - \" + str(data.spam.sum()))\n",
    "    \n",
    "    "
   ]
  },
  {
   "cell_type": "markdown",
   "id": "c5ecbcbf",
   "metadata": {},
   "source": [
    "#### Target Variable Distribution of the First Version of Data"
   ]
  },
  {
   "cell_type": "code",
   "execution_count": 8,
   "id": "02882836",
   "metadata": {},
   "outputs": [],
   "source": [
    "train = pd.read_csv('../data/raw/train.csv')\n",
    "validate = pd.read_csv('../data/raw/validate.csv')\n",
    "test = pd.read_csv('../data/raw/test.csv')"
   ]
  },
  {
   "cell_type": "code",
   "execution_count": 9,
   "id": "81795e11",
   "metadata": {},
   "outputs": [
    {
     "name": "stdout",
     "output_type": "stream",
     "text": [
      "Number of 0s in train.csv - 3484\n",
      "Number of 1s in train.csv - 1098\n",
      "Number of 0s in validate.csv - 451\n",
      "Number of 1s in validate.csv - 122\n",
      "Number of 0s in test.csv - 425\n",
      "Number of 1s in test.csv - 148\n"
     ]
    }
   ],
   "source": [
    "print_variable_distribution(train, \"train.csv\")\n",
    "print_variable_distribution(validate, \"validate.csv\")\n",
    "print_variable_distribution(test, \"test.csv\")"
   ]
  },
  {
   "cell_type": "markdown",
   "id": "7111470c",
   "metadata": {},
   "source": [
    "#### Target Variable Distribution of the Update Version of Data"
   ]
  },
  {
   "cell_type": "code",
   "execution_count": 10,
   "id": "1483eb22",
   "metadata": {},
   "outputs": [],
   "source": [
    "train = pd.read_csv('../data/raw/train.csv')\n",
    "validate = pd.read_csv('../data/raw/validate.csv')\n",
    "test = pd.read_csv('../data/raw/test.csv')"
   ]
  },
  {
   "cell_type": "code",
   "execution_count": 11,
   "id": "9e21f0da",
   "metadata": {},
   "outputs": [
    {
     "name": "stdout",
     "output_type": "stream",
     "text": [
      "Number of 0s in train.csv - 3491\n",
      "Number of 1s in train.csv - 1091\n",
      "Number of 0s in validate.csv - 433\n",
      "Number of 1s in validate.csv - 140\n",
      "Number of 0s in test.csv - 436\n",
      "Number of 1s in test.csv - 137\n"
     ]
    }
   ],
   "source": [
    "print_variable_distribution(train, \"train.csv\")\n",
    "print_variable_distribution(validate, \"validate.csv\")\n",
    "print_variable_distribution(test, \"test.csv\")"
   ]
  }
 ],
 "metadata": {
  "kernelspec": {
   "display_name": "Python 3 (ipykernel)",
   "language": "python",
   "name": "python3"
  },
  "language_info": {
   "codemirror_mode": {
    "name": "ipython",
    "version": 3
   },
   "file_extension": ".py",
   "mimetype": "text/x-python",
   "name": "python",
   "nbconvert_exporter": "python",
   "pygments_lexer": "ipython3",
   "version": "3.11.5"
  }
 },
 "nbformat": 4,
 "nbformat_minor": 5
}
